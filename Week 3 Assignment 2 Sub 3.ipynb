{
 "cells": [
  {
   "cell_type": "markdown",
   "metadata": {},
   "source": [
    "# Toronto Neighborhoods"
   ]
  },
  {
   "cell_type": "markdown",
   "metadata": {},
   "source": [
    "- imports"
   ]
  },
  {
   "cell_type": "code",
   "execution_count": 9,
   "metadata": {},
   "outputs": [],
   "source": [
    "from bs4 import BeautifulSoup\n",
    "import requests\n",
    "import numpy as np\n",
    "import pandas as pd\n",
    "from geopy.geocoders import Nominatim\n",
    "import folium\n",
    "import json\n",
    "from pandas.io.json import json_normalize # tranform JSON file into a pandas dataframe\n",
    "from sklearn.cluster import KMeans\n",
    "import matplotlib.cm as cm\n",
    "import matplotlib.colors as colors"
   ]
  },
  {
   "cell_type": "markdown",
   "metadata": {},
   "source": [
    "- will use 'https://en.wikipedia.org/wiki/List_of_postal_codes_of_Canada:_M'\n",
    "- check for status code and headers"
   ]
  },
  {
   "cell_type": "code",
   "execution_count": 10,
   "metadata": {},
   "outputs": [
    {
     "name": "stdout",
     "output_type": "stream",
     "text": [
      "https://en.wikipedia.org/wiki/List_of_postal_codes_of_Canada:_M\n",
      "200\n",
      "{'Date': 'Sun, 17 May 2020 04:26:27 GMT', 'Vary': 'Accept-Encoding,Cookie,Authorization', 'Server': 'ATS/8.0.7', 'Content-Type': 'text/html; charset=UTF-8', 'X-Content-Type-Options': 'nosniff', 'P3P': 'CP=\"See https://en.wikipedia.org/wiki/Special:CentralAutoLogin/P3P for more info.\"', 'Content-language': 'en', 'Last-Modified': 'Thu, 07 May 2020 17:47:29 GMT', 'Content-Encoding': 'gzip', 'Age': '20764', 'X-Cache': 'cp5008 miss, cp5009 hit/37', 'X-Cache-Status': 'hit-front', 'Server-Timing': 'cache;desc=\"hit-front\"', 'Strict-Transport-Security': 'max-age=106384710; includeSubDomains; preload', 'Set-Cookie': 'WMF-Last-Access=17-May-2020;Path=/;HttpOnly;secure;Expires=Thu, 18 Jun 2020 00:00:00 GMT, WMF-Last-Access-Global=17-May-2020;Path=/;Domain=.wikipedia.org;HttpOnly;secure;Expires=Thu, 18 Jun 2020 00:00:00 GMT, GeoIP=IN:PB:Mohali:30.68:76.72:v4; Path=/; secure; Domain=.wikipedia.org', 'X-Client-IP': '106.211.88.78', 'Cache-Control': 'private, s-maxage=0, max-age=0, must-revalidate', 'Accept-Ranges': 'bytes', 'Content-Length': '12967', 'Connection': 'keep-alive'}\n"
     ]
    }
   ],
   "source": [
    "url = 'https://en.wikipedia.org/wiki/List_of_postal_codes_of_Canada:_M'\n",
    "result = requests.get(url)\n",
    "print(url)\n",
    "print(result.status_code)\n",
    "print(result.headers)"
   ]
  },
  {
   "cell_type": "markdown",
   "metadata": {},
   "source": [
    "- will get data + clean it"
   ]
  },
  {
   "cell_type": "code",
   "execution_count": 11,
   "metadata": {},
   "outputs": [],
   "source": [
    "soup = BeautifulSoup(result.content, 'html.parser')\n",
    "table = soup.find('table')\n",
    "trs = table.find_all('tr')\n",
    "rows = []\n",
    "for tr in trs:\n",
    "    i = tr.find_all('td')\n",
    "    if i:\n",
    "        rows.append(i)\n",
    "        \n",
    "lst = []\n",
    "for row in rows:\n",
    "    postalcode = row[0].text.rstrip()\n",
    "    borough = row[1].text.rstrip()\n",
    "    neighborhood = row[2].text.rstrip()\n",
    "    if borough != 'Not assigned':\n",
    "        if neighborhood == 'Not assigned':\n",
    "            neighborhood = borough\n",
    "        lst.append([postalcode, borough, neighborhood])\n",
    "\n",
    "# lst"
   ]
  },
  {
   "cell_type": "markdown",
   "metadata": {},
   "source": [
    "- convert into a dataframe"
   ]
  },
  {
   "cell_type": "code",
   "execution_count": 12,
   "metadata": {},
   "outputs": [
    {
     "name": "stdout",
     "output_type": "stream",
     "text": [
      "(103, 3)\n"
     ]
    }
   ],
   "source": [
    "cols = ['PostalCode', 'Borough', 'Neighborhood']\n",
    "df = pd.DataFrame(lst, columns=cols)\n",
    "print(df.shape)\n",
    "# df[df.duplicated(['PostalCode'], keep=False)] - this would have shown the duplicate PostalCodes"
   ]
  },
  {
   "cell_type": "markdown",
   "metadata": {},
   "source": [
    "- custom groupby / agg to merge Neighborhoods\n",
    "    - groupby PostalCode, keep the first Borough and join() Neighborhoods"
   ]
  },
  {
   "cell_type": "code",
   "execution_count": 13,
   "metadata": {},
   "outputs": [],
   "source": [
    "df = df.groupby('PostalCode').agg(\n",
    "    {\n",
    "        'Borough':'first', \n",
    "        'Neighborhood': ', '.join,}\n",
    "    ).reset_index()"
   ]
  },
  {
   "cell_type": "markdown",
   "metadata": {},
   "source": [
    "- will check if 'M5A' example is done correctly"
   ]
  },
  {
   "cell_type": "code",
   "execution_count": 14,
   "metadata": {},
   "outputs": [
    {
     "data": {
      "text/html": [
       "<div>\n",
       "<style scoped>\n",
       "    .dataframe tbody tr th:only-of-type {\n",
       "        vertical-align: middle;\n",
       "    }\n",
       "\n",
       "    .dataframe tbody tr th {\n",
       "        vertical-align: top;\n",
       "    }\n",
       "\n",
       "    .dataframe thead th {\n",
       "        text-align: right;\n",
       "    }\n",
       "</style>\n",
       "<table border=\"1\" class=\"dataframe\">\n",
       "  <thead>\n",
       "    <tr style=\"text-align: right;\">\n",
       "      <th></th>\n",
       "      <th>PostalCode</th>\n",
       "      <th>Borough</th>\n",
       "      <th>Neighborhood</th>\n",
       "    </tr>\n",
       "  </thead>\n",
       "  <tbody>\n",
       "    <tr>\n",
       "      <th>53</th>\n",
       "      <td>M5A</td>\n",
       "      <td>Downtown Toronto</td>\n",
       "      <td>Regent Park, Harbourfront</td>\n",
       "    </tr>\n",
       "  </tbody>\n",
       "</table>\n",
       "</div>"
      ],
      "text/plain": [
       "   PostalCode           Borough               Neighborhood\n",
       "53        M5A  Downtown Toronto  Regent Park, Harbourfront"
      ]
     },
     "execution_count": 14,
     "metadata": {},
     "output_type": "execute_result"
    }
   ],
   "source": [
    "df.loc[df['PostalCode'] == 'M5A']"
   ]
  },
  {
   "cell_type": "markdown",
   "metadata": {},
   "source": [
    "- will check the df.shape"
   ]
  },
  {
   "cell_type": "code",
   "execution_count": 15,
   "metadata": {},
   "outputs": [
    {
     "data": {
      "text/plain": [
       "(103, 3)"
      ]
     },
     "execution_count": 15,
     "metadata": {},
     "output_type": "execute_result"
    }
   ],
   "source": [
    "df.shape"
   ]
  },
  {
   "cell_type": "markdown",
   "metadata": {},
   "source": [
    "- will read geo data from a CSV\n",
    "- need to rename a column so the merge (below) will work"
   ]
  },
  {
   "cell_type": "code",
   "execution_count": 16,
   "metadata": {},
   "outputs": [],
   "source": [
    "dfgeo = pd.read_csv(\"Geospatial_Coordinates.csv\")\n",
    "dfgeo.rename(columns={'Postal Code': 'PostalCode'}, inplace=True)"
   ]
  },
  {
   "cell_type": "markdown",
   "metadata": {},
   "source": [
    "- need to merge 2 dataframes based on a PostalCode column"
   ]
  },
  {
   "cell_type": "code",
   "execution_count": 17,
   "metadata": {},
   "outputs": [],
   "source": [
    "df2 = pd.merge(df, dfgeo, on=\"PostalCode\", how='left')"
   ]
  },
  {
   "cell_type": "markdown",
   "metadata": {},
   "source": [
    "- let's check if the example returns the expected value(s)"
   ]
  },
  {
   "cell_type": "code",
   "execution_count": 18,
   "metadata": {},
   "outputs": [
    {
     "data": {
      "text/html": [
       "<div>\n",
       "<style scoped>\n",
       "    .dataframe tbody tr th:only-of-type {\n",
       "        vertical-align: middle;\n",
       "    }\n",
       "\n",
       "    .dataframe tbody tr th {\n",
       "        vertical-align: top;\n",
       "    }\n",
       "\n",
       "    .dataframe thead th {\n",
       "        text-align: right;\n",
       "    }\n",
       "</style>\n",
       "<table border=\"1\" class=\"dataframe\">\n",
       "  <thead>\n",
       "    <tr style=\"text-align: right;\">\n",
       "      <th></th>\n",
       "      <th>PostalCode</th>\n",
       "      <th>Borough</th>\n",
       "      <th>Neighborhood</th>\n",
       "      <th>Latitude</th>\n",
       "      <th>Longitude</th>\n",
       "    </tr>\n",
       "  </thead>\n",
       "  <tbody>\n",
       "    <tr>\n",
       "      <th>57</th>\n",
       "      <td>M5G</td>\n",
       "      <td>Downtown Toronto</td>\n",
       "      <td>Central Bay Street</td>\n",
       "      <td>43.657952</td>\n",
       "      <td>-79.387383</td>\n",
       "    </tr>\n",
       "  </tbody>\n",
       "</table>\n",
       "</div>"
      ],
      "text/plain": [
       "   PostalCode           Borough        Neighborhood   Latitude  Longitude\n",
       "57        M5G  Downtown Toronto  Central Bay Street  43.657952 -79.387383"
      ]
     },
     "execution_count": 18,
     "metadata": {},
     "output_type": "execute_result"
    }
   ],
   "source": [
    "df2.loc[df2['PostalCode'] == 'M5G']"
   ]
  },
  {
   "cell_type": "code",
   "execution_count": 19,
   "metadata": {},
   "outputs": [
    {
     "data": {
      "text/html": [
       "<div>\n",
       "<style scoped>\n",
       "    .dataframe tbody tr th:only-of-type {\n",
       "        vertical-align: middle;\n",
       "    }\n",
       "\n",
       "    .dataframe tbody tr th {\n",
       "        vertical-align: top;\n",
       "    }\n",
       "\n",
       "    .dataframe thead th {\n",
       "        text-align: right;\n",
       "    }\n",
       "</style>\n",
       "<table border=\"1\" class=\"dataframe\">\n",
       "  <thead>\n",
       "    <tr style=\"text-align: right;\">\n",
       "      <th></th>\n",
       "      <th>PostalCode</th>\n",
       "      <th>Borough</th>\n",
       "      <th>Neighborhood</th>\n",
       "      <th>Latitude</th>\n",
       "      <th>Longitude</th>\n",
       "    </tr>\n",
       "  </thead>\n",
       "  <tbody>\n",
       "    <tr>\n",
       "      <th>101</th>\n",
       "      <td>M9V</td>\n",
       "      <td>Etobicoke</td>\n",
       "      <td>South Steeles, Silverstone, Humbergate, Jamest...</td>\n",
       "      <td>43.739416</td>\n",
       "      <td>-79.588437</td>\n",
       "    </tr>\n",
       "  </tbody>\n",
       "</table>\n",
       "</div>"
      ],
      "text/plain": [
       "    PostalCode    Borough                                       Neighborhood  \\\n",
       "101        M9V  Etobicoke  South Steeles, Silverstone, Humbergate, Jamest...   \n",
       "\n",
       "      Latitude  Longitude  \n",
       "101  43.739416 -79.588437  "
      ]
     },
     "execution_count": 19,
     "metadata": {},
     "output_type": "execute_result"
    }
   ],
   "source": [
    "df2.loc[df2['PostalCode'] == 'M9V']"
   ]
  },
  {
   "cell_type": "markdown",
   "metadata": {},
   "source": [
    "- Toronto map"
   ]
  },
  {
   "cell_type": "code",
   "execution_count": 20,
   "metadata": {},
   "outputs": [
    {
     "name": "stdout",
     "output_type": "stream",
     "text": [
      "The geograpical coordinates of Toronto are 43.6534817, -79.3839347.\n"
     ]
    },
    {
     "data": {
      "text/html": [
       "<div style=\"width:100%;\"><div style=\"position:relative;width:100%;height:0;padding-bottom:60%;\"><span style=\"color:#565656\">Make this Notebook Trusted to load map: File -> Trust Notebook</span><iframe src=\"about:blank\" style=\"position:absolute;width:100%;height:100%;left:0;top:0;border:none !important;\" data-html=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 onload=\"this.contentDocument.open();this.contentDocument.write(atob(this.getAttribute('data-html')));this.contentDocument.close();\" allowfullscreen webkitallowfullscreen mozallowfullscreen></iframe></div></div>"
      ],
      "text/plain": [
       "<folium.folium.Map at 0x1a00757c9b0>"
      ]
     },
     "execution_count": 20,
     "metadata": {},
     "output_type": "execute_result"
    }
   ],
   "source": [
    "geolocator = Nominatim(user_agent=\"coursera\")\n",
    "address = 'Toronto'\n",
    "try:\n",
    "    location = geolocator.geocode(address)\n",
    "    latitude = location.latitude\n",
    "    longitude = location.longitude\n",
    "    print('The geograpical coordinates of {} are {}, {}.'.format(address, latitude, longitude))\n",
    "except AttributeError:\n",
    "    print('Cannot find: {}, will drop index: {}'.format(address, index))\n",
    "\n",
    "my_map = folium.Map(location=[latitude, longitude], zoom_start=11)\n",
    "\n",
    "# add markers to map\n",
    "for lat, lng, label in zip(df2['Latitude'], df2['Longitude'], df2['PostalCode']):\n",
    "    label = folium.Popup(label)\n",
    "    folium.CircleMarker(\n",
    "        [lat, lng],\n",
    "        radius=5,\n",
    "        popup=label,\n",
    "        color='blue',\n",
    "        fill_color='#3186cc',\n",
    "        fill_opacity=0.7).add_to(my_map)  \n",
    "    \n",
    "my_map"
   ]
  },
  {
   "cell_type": "markdown",
   "metadata": {},
   "source": [
    "- Will analyze with 4Square"
   ]
  },
  {
   "cell_type": "code",
   "execution_count": 21,
   "metadata": {},
   "outputs": [],
   "source": [
    "CLIENT_ID = '...' # Foursquare ID\n",
    "CLIENT_SECRET = '...' # Foursquare Secret\n",
    "VERSION = '20180605' # API version"
   ]
  },
  {
   "cell_type": "markdown",
   "metadata": {},
   "source": [
    "- will focus on Etobicoke"
   ]
  },
  {
   "cell_type": "code",
   "execution_count": 22,
   "metadata": {},
   "outputs": [],
   "source": [
    "df2.set_index('PostalCode', inplace = True) \n",
    "neighborhood_latitude = df2.loc['M9V']['Latitude']\n",
    "neighborhood_longitude = df2.loc['M9V']['Longitude']"
   ]
  },
  {
   "cell_type": "code",
   "execution_count": 23,
   "metadata": {},
   "outputs": [
    {
     "data": {
      "text/plain": [
       "'https://api.foursquare.com/v2/venues/explore?&client_id=...&client_secret=...&v=20180605&ll=43.739416399999996,-79.5884369&radius=500&limit=100'"
      ]
     },
     "execution_count": 23,
     "metadata": {},
     "output_type": "execute_result"
    }
   ],
   "source": [
    "LIMIT = 100 # limit of number of venues returned by Foursquare API\n",
    "radius = 500 # define radius\n",
    "# create URL\n",
    "url = 'https://api.foursquare.com/v2/venues/explore?&client_id={}&client_secret={}&v={}&ll={},{}&radius={}&limit={}'.format(\n",
    "    CLIENT_ID, \n",
    "    CLIENT_SECRET, \n",
    "    VERSION, \n",
    "    neighborhood_latitude, \n",
    "    neighborhood_longitude, \n",
    "    radius, \n",
    "    LIMIT)\n",
    "url # display URL"
   ]
  },
  {
   "cell_type": "code",
   "execution_count": 24,
   "metadata": {},
   "outputs": [],
   "source": [
    "results = requests.get(url).json()\n",
    "# results"
   ]
  },
  {
   "cell_type": "code",
   "execution_count": 25,
   "metadata": {},
   "outputs": [],
   "source": [
    "# function that extracts the category of the venue\n",
    "def get_category_type(row):\n",
    "    try:\n",
    "        categories_list = row['categories']\n",
    "    except:\n",
    "        categories_list = row['venue.categories']\n",
    "        \n",
    "    if len(categories_list) == 0:\n",
    "        return None\n",
    "    else:\n",
    "        return categories_list[0]['name']"
   ]
  },
  {
   "cell_type": "code",
   "execution_count": 26,
   "metadata": {},
   "outputs": [
    {
     "ename": "KeyError",
     "evalue": "'groups'",
     "output_type": "error",
     "traceback": [
      "\u001b[1;31m---------------------------------------------------------------------------\u001b[0m",
      "\u001b[1;31mKeyError\u001b[0m                                  Traceback (most recent call last)",
      "\u001b[1;32m<ipython-input-26-b39e1738c77b>\u001b[0m in \u001b[0;36m<module>\u001b[1;34m\u001b[0m\n\u001b[1;32m----> 1\u001b[1;33m \u001b[0mvenues\u001b[0m \u001b[1;33m=\u001b[0m \u001b[0mresults\u001b[0m\u001b[1;33m[\u001b[0m\u001b[1;34m'response'\u001b[0m\u001b[1;33m]\u001b[0m\u001b[1;33m[\u001b[0m\u001b[1;34m'groups'\u001b[0m\u001b[1;33m]\u001b[0m\u001b[1;33m[\u001b[0m\u001b[1;36m0\u001b[0m\u001b[1;33m]\u001b[0m\u001b[1;33m[\u001b[0m\u001b[1;34m'items'\u001b[0m\u001b[1;33m]\u001b[0m\u001b[1;33m\u001b[0m\u001b[1;33m\u001b[0m\u001b[0m\n\u001b[0m",
      "\u001b[1;31mKeyError\u001b[0m: 'groups'"
     ]
    }
   ],
   "source": [
    "venues = results['response']['groups'][0]['items']"
   ]
  },
  {
   "cell_type": "code",
   "execution_count": null,
   "metadata": {},
   "outputs": [],
   "source": [
    "nearby_venues = json_normalize(venues) # flatten JSON\n",
    "nearby_venues"
   ]
  },
  {
   "cell_type": "code",
   "execution_count": null,
   "metadata": {},
   "outputs": [],
   "source": [
    "# filter columns\n",
    "filtered_columns = ['venue.name', 'venue.categories', 'venue.location.lat', 'venue.location.lng']\n",
    "nearby_venues = nearby_venues.loc[:, filtered_columns]\n",
    "\n",
    "# filter the category for each row\n",
    "nearby_venues['venue.categories'] = nearby_venues.apply(get_category_type, axis=1)\n",
    "\n",
    "# clean columns\n",
    "nearby_venues.columns = [col.split(\".\")[-1] for col in nearby_venues.columns]\n",
    "\n",
    "nearby_venues.head()"
   ]
  },
  {
   "cell_type": "code",
   "execution_count": null,
   "metadata": {},
   "outputs": [],
   "source": [
    "print('{} venues were returned by Foursquare.'.format(nearby_venues.shape[0]))"
   ]
  },
  {
   "cell_type": "code",
   "execution_count": null,
   "metadata": {},
   "outputs": [],
   "source": [
    "def getNearbyVenues(names, latitudes, longitudes, radius=500):\n",
    "    \n",
    "    venues_list=[]\n",
    "    for name, lat, lng in zip(names, latitudes, longitudes):\n",
    "        print(name)\n",
    "            \n",
    "        # create the API request URL\n",
    "        url = 'https://api.foursquare.com/v2/venues/explore?&client_id={}&client_secret={}&v={}&ll={},{}&radius={}&limit={}'.format(\n",
    "            CLIENT_ID, \n",
    "            CLIENT_SECRET, \n",
    "            VERSION, \n",
    "            lat, \n",
    "            lng, \n",
    "            radius, \n",
    "            LIMIT)\n",
    "            \n",
    "        # make the GET request\n",
    "        results = requests.get(url).json()[\"response\"]['groups'][0]['items']\n",
    "        \n",
    "        # return only relevant information for each nearby venue\n",
    "        venues_list.append([(\n",
    "            name, \n",
    "            lat, \n",
    "            lng, \n",
    "            v['venue']['name'], \n",
    "            v['venue']['location']['lat'], \n",
    "            v['venue']['location']['lng'],  \n",
    "            v['venue']['categories'][0]['name']) for v in results])\n",
    "\n",
    "    nearby_venues = pd.DataFrame([item for venue_list in venues_list for item in venue_list])\n",
    "    nearby_venues.columns = ['Neighborhood', \n",
    "                  'Neighborhood Latitude', \n",
    "                  'Neighborhood Longitude', \n",
    "                  'Venue', \n",
    "                  'Venue Latitude', \n",
    "                  'Venue Longitude', \n",
    "                  'Venue Category']\n",
    "    \n",
    "    return(nearby_venues)"
   ]
  },
  {
   "cell_type": "code",
   "execution_count": null,
   "metadata": {},
   "outputs": [],
   "source": [
    "df2"
   ]
  },
  {
   "cell_type": "code",
   "execution_count": null,
   "metadata": {},
   "outputs": [],
   "source": [
    "venues = getNearbyVenues(names=df2['Borough'],latitudes=df2['Latitude'],longitudes=df2['Longitude'])"
   ]
  },
  {
   "cell_type": "code",
   "execution_count": null,
   "metadata": {},
   "outputs": [],
   "source": [
    "print(venues.shape)\n",
    "venues.head()"
   ]
  },
  {
   "cell_type": "code",
   "execution_count": null,
   "metadata": {},
   "outputs": [],
   "source": [
    "venues.groupby('Neighborhood').count()"
   ]
  },
  {
   "cell_type": "code",
   "execution_count": null,
   "metadata": {},
   "outputs": [],
   "source": [
    "print('There are {} unique categories.'.format(len(venues['Venue Category'].unique())))"
   ]
  },
  {
   "cell_type": "code",
   "execution_count": null,
   "metadata": {},
   "outputs": [],
   "source": [
    "# one hot encoding\n",
    "onehot = pd.get_dummies(venues[['Venue Category']], prefix=\"\", prefix_sep=\"\")\n",
    "\n",
    "# add neighborhood column back to dataframe\n",
    "onehot['Neighborhood'] = venues['Neighborhood'] \n",
    "\n",
    "onehot.head()"
   ]
  },
  {
   "cell_type": "code",
   "execution_count": null,
   "metadata": {},
   "outputs": [],
   "source": [
    "onehot.shape"
   ]
  },
  {
   "cell_type": "code",
   "execution_count": null,
   "metadata": {},
   "outputs": [],
   "source": [
    "grouped = onehot.groupby('Neighborhood').mean().reset_index()\n",
    "grouped"
   ]
  },
  {
   "cell_type": "code",
   "execution_count": null,
   "metadata": {},
   "outputs": [],
   "source": [
    "grouped.shape"
   ]
  },
  {
   "cell_type": "code",
   "execution_count": null,
   "metadata": {},
   "outputs": [],
   "source": [
    "num_top_venues = 5\n",
    "\n",
    "for hood in grouped['Neighborhood']:\n",
    "    print(\"----\"+hood+\"----\")\n",
    "    temp = grouped[grouped['Neighborhood'] == hood].T.reset_index()\n",
    "    temp.columns = ['venue','freq']\n",
    "    temp = temp.iloc[1:]\n",
    "    temp['freq'] = temp['freq'].astype(float)\n",
    "    temp = temp.round({'freq': 2})\n",
    "    print(temp.sort_values('freq', ascending=False).reset_index(drop=True).head(num_top_venues))\n",
    "    print('\\n')"
   ]
  },
  {
   "cell_type": "code",
   "execution_count": null,
   "metadata": {},
   "outputs": [],
   "source": [
    "def return_most_common_venues(row, num_top_venues):\n",
    "    row_categories = row.iloc[1:]\n",
    "    row_categories_sorted = row_categories.sort_values(ascending=False)\n",
    "    \n",
    "    return row_categories_sorted.index.values[0:num_top_venues]"
   ]
  },
  {
   "cell_type": "code",
   "execution_count": null,
   "metadata": {},
   "outputs": [],
   "source": [
    "num_top_venues = 10\n",
    "\n",
    "indicators = ['st', 'nd', 'rd']\n",
    "\n",
    "# create columns according to number of top venues\n",
    "columns = ['Neighborhood']\n",
    "for ind in np.arange(num_top_venues):\n",
    "    try:\n",
    "        columns.append('{}{} Most Common Venue'.format(ind+1, indicators[ind]))\n",
    "    except:\n",
    "        columns.append('{}th Most Common Venue'.format(ind+1))\n",
    "\n",
    "# create a new dataframe\n",
    "neighborhoods_venues_sorted = pd.DataFrame(columns=columns)\n",
    "neighborhoods_venues_sorted['Neighborhood'] = grouped['Neighborhood']\n",
    "\n",
    "for ind in np.arange(grouped.shape[0]):\n",
    "    neighborhoods_venues_sorted.iloc[ind, 1:] = return_most_common_venues(grouped.iloc[ind, :], num_top_venues)\n",
    "\n",
    "neighborhoods_venues_sorted"
   ]
  },
  {
   "cell_type": "code",
   "execution_count": null,
   "metadata": {},
   "outputs": [],
   "source": [
    "# set number of clusters\n",
    "kclusters = 5\n",
    "\n",
    "grouped_clustering = grouped.drop('Neighborhood', 1)\n",
    "\n",
    "# run k-means clustering\n",
    "kmeans = KMeans(n_clusters=kclusters, random_state=0).fit(grouped_clustering)\n",
    "\n",
    "# check cluster labels generated for each row in the dataframe\n",
    "kmeans.labels_[0:10]"
   ]
  },
  {
   "cell_type": "code",
   "execution_count": null,
   "metadata": {},
   "outputs": [],
   "source": [
    "merged = grouped\n",
    "\n",
    "# add clustering labels\n",
    "merged['Cluster Labels'] = kmeans.labels_\n",
    "\n",
    "# merge toronto_grouped with toronto_data to add latitude/longitude for each neighborhood\n",
    "merged = merged.join(neighborhoods_venues_sorted.set_index('Neighborhood'), on='Neighborhood')\n",
    "\n",
    "merged.head() # check the last columns!"
   ]
  }
 ],
 "metadata": {
  "kernelspec": {
   "display_name": "Python 3",
   "language": "python",
   "name": "python3"
  },
  "language_info": {
   "codemirror_mode": {
    "name": "ipython",
    "version": 3
   },
   "file_extension": ".py",
   "mimetype": "text/x-python",
   "name": "python",
   "nbconvert_exporter": "python",
   "pygments_lexer": "ipython3",
   "version": "3.7.1"
  }
 },
 "nbformat": 4,
 "nbformat_minor": 2
}
